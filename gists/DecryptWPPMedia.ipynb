{
  "nbformat": 4,
  "nbformat_minor": 0,
  "metadata": {
    "colab": {
      "provenance": [],
      "authorship_tag": "ABX9TyPS0mpuPaEuwM4KIKGQT9S8",
      "include_colab_link": true
    },
    "kernelspec": {
      "name": "python3",
      "display_name": "Python 3"
    },
    "language_info": {
      "name": "python"
    }
  },
  "cells": [
    {
      "cell_type": "markdown",
      "metadata": {
        "id": "view-in-github",
        "colab_type": "text"
      },
      "source": [
        "<a href=\"https://colab.research.google.com/github/WillzWayn/growing-happy/blob/master/gists/DecryptWPPAudio.ipynb\" target=\"_parent\"><img src=\"https://colab.research.google.com/assets/colab-badge.svg\" alt=\"Open In Colab\"/></a>"
      ]
    },
    {
      "cell_type": "code",
      "source": [
        "!pip install pycryptodome -q"
      ],
      "metadata": {
        "colab": {
          "base_uri": "https://localhost:8080/"
        },
        "id": "aUCueoVVrELH",
        "outputId": "1fb15d38-13df-40c5-b5ab-f7820efd3321"
      },
      "execution_count": 3,
      "outputs": [
        {
          "output_type": "stream",
          "name": "stdout",
          "text": [
            "\u001b[?25l   \u001b[90m━━━━━━━━━━━━━━━━━━━━━━━━━━━━━━━━━━━━━━━━\u001b[0m \u001b[32m0.0/2.3 MB\u001b[0m \u001b[31m?\u001b[0m eta \u001b[36m-:--:--\u001b[0m\r\u001b[2K   \u001b[91m━\u001b[0m\u001b[90m╺\u001b[0m\u001b[90m━━━━━━━━━━━━━━━━━━━━━━━━━━━━━━━━━━━━━━\u001b[0m \u001b[32m0.1/2.3 MB\u001b[0m \u001b[31m2.5 MB/s\u001b[0m eta \u001b[36m0:00:01\u001b[0m\r\u001b[2K   \u001b[91m━━━━━━━━━━━\u001b[0m\u001b[90m╺\u001b[0m\u001b[90m━━━━━━━━━━━━━━━━━━━━━━━━━━━━\u001b[0m \u001b[32m0.6/2.3 MB\u001b[0m \u001b[31m9.3 MB/s\u001b[0m eta \u001b[36m0:00:01\u001b[0m\r\u001b[2K   \u001b[91m━━━━━━━━━━━━━━━━━━━━━━━━━━━━━━━━━━━━━━━\u001b[0m\u001b[91m╸\u001b[0m \u001b[32m2.3/2.3 MB\u001b[0m \u001b[31m23.9 MB/s\u001b[0m eta \u001b[36m0:00:01\u001b[0m\r\u001b[2K   \u001b[90m━━━━━━━━━━━━━━━━━━━━━━━━━━━━━━━━━━━━━━━━\u001b[0m \u001b[32m2.3/2.3 MB\u001b[0m \u001b[31m19.4 MB/s\u001b[0m eta \u001b[36m0:00:00\u001b[0m\n",
            "\u001b[?25h"
          ]
        }
      ]
    },
    {
      "cell_type": "code",
      "source": [
        "%%writefile decrypt.py\n",
        "#!/usr/bin/python3\n",
        "\n",
        "from Crypto.Cipher import AES\n",
        "import hashlib\n",
        "import hmac\n",
        "import base64\n",
        "import sys\n",
        "\n",
        "\n",
        "appInfo = {\n",
        "    \"image\": b\"WhatsApp Image Keys\",\n",
        "    \"video\": b\"WhatsApp Video Keys\",\n",
        "    \"audio\": b\"WhatsApp Audio Keys\",\n",
        "    \"document\": b\"WhatsApp Document Keys\",\n",
        "    \"image/webp\": b\"WhatsApp Image Keys\",\n",
        "    \"image/jpeg\": b\"WhatsApp Image Keys\",\n",
        "    \"image/png\": b\"WhatsApp Image Keys\",\n",
        "    \"video/mp4\": b\"WhatsApp Video Keys\",\n",
        "    \"audio/aac\": b\"WhatsApp Audio Keys\",\n",
        "    \"audio/ogg\": b\"WhatsApp Audio Keys\",\n",
        "    \"audio/wav\": b\"WhatsApp Audio Keys\",\n",
        "}\n",
        "\n",
        "extension = {\n",
        "    \"image\": \"jpg\",\n",
        "    \"video\": \"mp4\",\n",
        "    \"audio\": \"ogg\",\n",
        "    \"document\": \"bin\",\n",
        "}\n",
        "\n",
        "\n",
        "def HKDF(key, length, appInfo=b\"\"):\n",
        "    key = hmac.new(b\"\\0\"*32, key, hashlib.sha256).digest()\n",
        "    keyStream = b\"\"\n",
        "    keyBlock = b\"\"\n",
        "    blockIndex = 1\n",
        "    while len(keyStream) < length:\n",
        "        keyBlock = hmac.new(\n",
        "            key,\n",
        "            msg=keyBlock+appInfo + (chr(blockIndex).encode(\"utf-8\")),\n",
        "            digestmod=hashlib.sha256).digest()\n",
        "        blockIndex += 1\n",
        "        keyStream += keyBlock\n",
        "    return keyStream[:length]\n",
        "\n",
        "\n",
        "def AESUnpad(s):\n",
        "    return s[:-ord(s[len(s)-1:])]\n",
        "\n",
        "\n",
        "def AESDecrypt(key, ciphertext, iv):\n",
        "    cipher = AES.new(key, AES.MODE_CBC, iv)\n",
        "    plaintext = cipher.decrypt(ciphertext)\n",
        "    return AESUnpad(plaintext)\n",
        "\n",
        "\n",
        "def decrypt(fileName, mediaKey, mediaType, output):\n",
        "    mediaKeyExpanded = HKDF(mediaKey, 112, appInfo[mediaType])\n",
        "    macKey = mediaKeyExpanded[48:80]\n",
        "    mediaData = open(fileName, \"rb\").read()\n",
        "\n",
        "    file = mediaData[:-10]\n",
        "    mac = mediaData[-10:]\n",
        "\n",
        "    data = AESDecrypt(mediaKeyExpanded[16:48], file, mediaKeyExpanded[:16])\n",
        "\n",
        "    if output is None:\n",
        "        if \"/\" in mediaType:\n",
        "            fileExtension = mediaType.split(\"/\")[1]\n",
        "        else:\n",
        "            fileExtension = extension[mediaType]\n",
        "\n",
        "        output = fileName.replace('.enc', '.{}'.format(fileExtension))\n",
        "    with open(output, 'wb') as f:\n",
        "        f.write(data)\n",
        "\n",
        "    return True\n",
        "\n",
        "\n",
        "if __name__ == \"__main__\":\n",
        "    from optparse import OptionParser\n",
        "    parser = OptionParser(version='1')\n",
        "    parser.add_option(\n",
        "        '-m',\n",
        "        '--mime',\n",
        "        dest='mediaType',\n",
        "        default='image',\n",
        "        help=\"media type of the encrypted file. Default 'image'\"\n",
        "    )\n",
        "    parser.add_option(\n",
        "        '-b',\n",
        "        '--base64',\n",
        "        dest='base64Key',\n",
        "        default=None,\n",
        "        help='media key in Base64'\n",
        "    )\n",
        "    parser.add_option(\n",
        "        '-j',\n",
        "        '--hex',\n",
        "        dest='hexKey',\n",
        "        default=None,\n",
        "        help='media key in Hex'\n",
        "    )\n",
        "    parser.add_option(\n",
        "        '-o',\n",
        "        '--output',\n",
        "        dest='output',\n",
        "        default=None,\n",
        "        help='path for the plaintext'\n",
        "    )\n",
        "    (options, args) = parser.parse_args()\n",
        "\n",
        "    fileName = args[0]\n",
        "    if options.base64Key is not None:\n",
        "        mediaKey = base64.b64decode(options.base64Key)\n",
        "    elif options.hexKey is not None:\n",
        "        mediaKey = bytes.fromhex(options.hexKey)\n",
        "    else:\n",
        "        print(\"You must specify the key in either \"\n",
        "              \"Base64 or Hex.\\nUsage: decrypt.py -h\")\n",
        "        sys.exit(1)\n",
        "\n",
        "    if decrypt(fileName, mediaKey, options.mediaType, options.output):\n",
        "        print(\"Decrypted (hopefully)\")"
      ],
      "metadata": {
        "colab": {
          "base_uri": "https://localhost:8080/"
        },
        "id": "L1iAy884sYBH",
        "outputId": "3d073dcc-4be7-4639-dcdf-0c5236b1f034"
      },
      "execution_count": 7,
      "outputs": [
        {
          "output_type": "stream",
          "name": "stdout",
          "text": [
            "Writing decrypt.py\n"
          ]
        }
      ]
    },
    {
      "cell_type": "code",
      "source": [
        "!python3 decrypt.py -b \"J8e4eDkxUh5z8IPg3Ha5LBltf6rs6Vukko/hsYgrHpo=\" -m \"audio/ogg\" file.enc"
      ],
      "metadata": {
        "colab": {
          "base_uri": "https://localhost:8080/"
        },
        "id": "_dwEz7qNssDz",
        "outputId": "12e95f58-0e45-4b2d-c681-a5e1a7090c69"
      },
      "execution_count": 10,
      "outputs": [
        {
          "output_type": "stream",
          "name": "stdout",
          "text": [
            "Decrypted (hopefully)\n"
          ]
        }
      ]
    },
    {
      "cell_type": "code",
      "source": [
        "from IPython.display import Audio\n",
        "\n",
        "Audio(\"file.ogg\", autoplay=True)  # Replace with your file name"
      ],
      "metadata": {
        "colab": {
          "base_uri": "https://localhost:8080/",
          "height": 76
        },
        "id": "3DPXHnDXuGf3",
        "outputId": "05bbdb0b-b908-4eb0-cf3e-d59a325299ec"
      },
      "execution_count": 12,
      "outputs": [
        {
          "output_type": "execute_result",
          "data": {
            "text/plain": [
              "<IPython.lib.display.Audio object>"
            ],
            "text/html": [
              "\n",
              "                <audio  controls=\"controls\" autoplay=\"autoplay\">\n",
              "                    <source src=\"data:audio/ogg;base64,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\" type=\"audio/ogg\" />\n",
              "                    Your browser does not support the audio element.\n",
              "                </audio>\n",
              "              "
            ]
          },
          "metadata": {},
          "execution_count": 12
        }
      ]
    }
  ]
}
